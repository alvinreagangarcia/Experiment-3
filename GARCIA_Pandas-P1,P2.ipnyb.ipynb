{
 "cells": [
  {
   "cell_type": "code",
   "execution_count": null,
   "id": "5cddbfff-e785-489e-b9b4-6255dbaab49a",
   "metadata": {},
   "outputs": [],
   "source": []
  }
 ],
 "metadata": {
  "kernelspec": {
   "display_name": "",
   "name": ""
  },
  "language_info": {
   "name": ""
  }
 },
 "nbformat": 4,
 "nbformat_minor": 5
}
